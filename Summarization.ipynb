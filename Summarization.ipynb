{
 "cells": [
  {
   "cell_type": "markdown",
   "metadata": {},
   "source": [
    "# import Libraries"
   ]
  },
  {
   "cell_type": "code",
   "execution_count": 1,
   "metadata": {},
   "outputs": [
    {
     "name": "stderr",
     "output_type": "stream",
     "text": [
      "[nltk_data] Downloading package punkt to\n",
      "[nltk_data]     C:\\Users\\DELL\\AppData\\Roaming\\nltk_data...\n",
      "[nltk_data]   Package punkt is already up-to-date!\n",
      "[nltk_data] Downloading package stopwords to\n",
      "[nltk_data]     C:\\Users\\DELL\\AppData\\Roaming\\nltk_data...\n",
      "[nltk_data]   Package stopwords is already up-to-date!\n"
     ]
    },
    {
     "data": {
      "text/plain": [
       "True"
      ]
     },
     "execution_count": 1,
     "metadata": {},
     "output_type": "execute_result"
    }
   ],
   "source": [
    "import bs4 as bs\n",
    "import urllib.request\n",
    "import re\n",
    "import nltk\n",
    "nltk.download('punkt')\n",
    "nltk.download('stopwords')"
   ]
  },
  {
   "cell_type": "code",
   "execution_count": 2,
   "metadata": {},
   "outputs": [],
   "source": [
    "scraped_data = urllib.request.urlopen('https://en.wikipedia.org/wiki/Deep_learning')\n",
    "article = scraped_data.read()\n",
    "\n",
    "parsed_article = bs.BeautifulSoup(article,'lxml')\n",
    "\n",
    "paragraphs = parsed_article.find_all('p')\n",
    "\n",
    "article_text = \"\"\n",
    "\n",
    "for p in paragraphs:\n",
    "    article_text += p.text"
   ]
  },
  {
   "cell_type": "code",
   "execution_count": 3,
   "metadata": {},
   "outputs": [
    {
     "data": {
      "text/plain": [
       "'Deep learning  (also known as deep structured learning) is part of a broader family of machine learning methods based on artificial neural networks with representation learning. Learning can be supervised, semi-supervised or unsupervised.[1][2][3]\\nDeep-learning architectures such as deep neural networks, deep belief networks, deep reinforcement learning, recurrent neural networks and convolutional neural networks have been applied to fields including computer vision, speech recognition, natural language processing, machine translation, bioinformatics, drug design, medical image analysis, material inspection and board game programs, where they have produced results comparable to and in some cases surpassing human expert performance.[4][5][6][7]\\nArtificial neural networks (ANNs) were inspired by information processing and distributed communication nodes in biological systems. ANNs have various differences from biological brains.  Specifically, neural networks tend to be static and symbolic, while the biological brain of most living organisms is dynamic (plastic) and analogue.[8][9][10]\\nThe adjective \"deep\" in deep learning refers to the use of multiple layers in the network. Early work showed that a linear perceptron cannot be a universal classifier, but that a network with a nonpolynomial activation function with one hidden layer of unbounded width can. Deep learning is a modern variation which is concerned with an unbounded number of layers of bounded size, which permits practical application and optimized implementation, while retaining theoretical universality under mild conditions. In deep learning the layers are also permitted to be heterogeneous and to deviate widely from biologically informed connectionist models, for the sake of efficiency, trainability and understandability, whence the \"structured\" part.\\nDeep learning is a class of machine learning algorithms that[12]:\\u200a199–200\\u200a uses multiple layers to progressively extract higher-level features from the raw input. For example, in image processing, lower layers may identify edges, while higher layers may identify the concepts relevant to a human such as digits or letters or faces.\\nMost modern deep learning models are based on artificial neural networks, specifically convolutional neural networks (CNN)s, although they can also include propositional formulas or latent variables organized layer-wise in deep generative models such as the nodes in deep belief networks and deep Boltzmann machines.[13]\\nIn deep learning, each level learns to transform its input data into a slightly more abstract and composite representation. In an image recognition application, the raw input may be a matrix of pixels; the first representational layer may abstract the pixels and encode edges; the second layer may compose and encode arrangements of edges; the third layer may encode a nose and eyes; and the fourth layer may recognize that the image contains a face. Importantly, a deep learning process can learn which features to optimally place in which level on its own. This does not completely eliminate the need for hand-tuning; for example, varying numbers of layers and layer sizes can provide different degrees of abstraction.[1][14]\\nThe word \"deep\" in \"deep learning\" refers to the number of layers through which the data is transformed. More precisely, deep learning systems have a substantial credit assignment path (CAP) depth. The CAP is the chain of transformations from input to output. CAPs describe potentially causal connections between input and output. For a feedforward neural network, the depth of the CAPs is that of the network and is the number of hidden layers plus one (as the output layer is also parameterized). For recurrent neural networks, in which a signal may propagate through a layer more than once, the CAP depth is potentially unlimited.[2] No universally agreed-upon threshold of depth divides shallow learning from deep learning, but most researchers agree that deep learning involves CAP depth higher than 2. CAP of depth 2 has been shown to be a universal approximator in the sense that it can emulate any function.[15] Beyond that, more layers do not add to the function approximator ability of the network. Deep models (CAP > 2) are able to extract better features than shallow models and hence, extra layers help in learning the features effectively.\\nDeep learning architectures can be constructed with a greedy layer-by-layer method.[16] Deep learning helps to disentangle these abstractions and pick out which features improve performance.[1]\\nFor supervised learning tasks, deep learning methods eliminate feature engineering, by translating the data into compact intermediate representations akin to principal components, and derive layered structures that remove redundancy in representation.\\nDeep learning algorithms can be applied to unsupervised learning tasks. This is an important benefit because unlabeled data are more abundant than the labeled data. Examples of deep structures that can be trained in an unsupervised manner are neural history compressors[17] and deep belief networks.[1][18]\\nDeep neural networks are generally interpreted in terms of the universal approximation theorem[24] or probabilistic inference.[26]\\nThe classic universal approximation theorem concerns the capacity of feedforward neural networks with a single hidden layer of finite size to approximate continuous functions.[27] In 1989, the first proof was published by George Cybenko for sigmoid activation functions[19] and was generalised to feed-forward multi-layer architectures in 1991 by Kurt Hornik.[20] Recent work also showed that universal approximation also holds for non-bounded activation functions such as the rectified linear unit.[28]\\nThe universal approximation theorem for deep neural networks concerns the capacity of networks with bounded width but the depth is allowed to grow. Lu et al.[23] proved that if the width of a deep neural network with ReLU activation is strictly larger than the input dimension, then the network can approximate any Lebesgue integrable function; If the width is smaller or equal to the input dimension, then deep neural network is not a universal approximator.\\nThe probabilistic interpretation[25] derives from the field of machine learning. It features inference,[29] as well as the optimization concepts of training and testing, related to fitting and generalization, respectively. More specifically, the probabilistic interpretation considers the activation nonlinearity as a cumulative distribution function.[25] The probabilistic interpretation led to the introduction of dropout as regularizer in neural networks.[30] The probabilistic interpretation was introduced by researchers including Hopfield, Widrow and Narendra and popularized in surveys such as the one by Bishop.[31]\\nSome sources point out that Frank Rosenblatt developed and explored all of the basic ingredients of the deep learning systems of today.[32] He described it in his book \"Principles of Neurodynamics: Perceptrons and the Theory of Brain Mechanisms\", published by Cornell Aeronautical Laboratory, Inc., Cornell University in 1962.\\nThe first general, working learning algorithm for supervised, deep, feedforward, multilayer perceptrons was published by Alexey Ivakhnenko and Lapa in 1967.[33] A 1971 paper described a deep network with eight layers trained by the group method of data handling.[34] Other deep learning working architectures, specifically those built for computer vision, began with the Neocognitron introduced by Kunihiko Fukushima in 1980.[35]\\nThe term Deep Learning was introduced to the machine learning community by Rina Dechter in 1986,[36][17] and to artificial neural networks by Igor Aizenberg and colleagues in 2000, in the context of Boolean threshold neurons.[37][38]\\nIn 1989, Yann LeCun et al. applied the standard backpropagation algorithm, which had been around as the reverse mode of automatic differentiation since 1970,[39][40][41][42] to a deep neural network with the purpose of recognizing handwritten ZIP codes on mail. While the algorithm worked, training required 3 days.[43]\\nIn 1994, André de Carvalho, together with Mike Fairhurst and David Bisset, published experimental results of a multi-layer boolean neural network, also known as a weightless neural network, composed of a 3-layers self-organising feature extraction neural network module (SOFT) followed by a multi-layer classification neural network module (GSN), which were independently trained. Each layer in the feature extraction module extracted features with growing complexity regarding the previous layer.[44]\\nIn 1995, Brendan Frey demonstrated that it was possible to train (over two days) a network containing six fully connected layers and several hundred hidden units using the wake-sleep algorithm, co-developed with Peter Dayan and Hinton.[45] Many factors contribute to the slow speed, including the vanishing gradient problem analyzed in 1991 by Sepp Hochreiter.[46][47]\\nSince 1997, Sven Behnke extended the feed-forward hierarchical convolutional approach in the Neural Abstraction Pyramid[48] by lateral and backward connections in order to flexibly incorporate context into decisions and iteratively resolve local ambiguities.\\nSimpler models that use task-specific handcrafted features such as Gabor filters and support vector machines (SVMs) were a popular choice in the 1990s and 2000s, because of artificial neural network\\'s (ANN) computational cost and a lack of understanding of how the brain wires its biological networks.\\nBoth shallow and deep learning (e.g., recurrent nets) of ANNs have been explored for many years.[49][50][51] These methods never outperformed non-uniform internal-handcrafting Gaussian mixture model/Hidden Markov model (GMM-HMM) technology based on generative models of speech trained discriminatively.[52] Key difficulties have been analyzed, including gradient diminishing[46] and weak temporal correlation structure in neural predictive models.[53][54] Additional difficulties were the lack of training data and limited computing power.\\nMost speech recognition researchers moved away from neural nets to pursue generative modeling. An exception was at SRI International in the late 1990s. Funded by the US government\\'s NSA and DARPA, SRI studied deep neural networks in speech and speaker recognition. The speaker recognition team led by Larry Heck reported significant success with deep neural networks in speech processing in the 1998 National Institute of Standards and Technology Speaker Recognition evaluation.[55] The SRI deep neural network was then deployed in the Nuance Verifier, representing the first major industrial application of deep learning.[56]\\nThe principle of elevating \"raw\" features over hand-crafted optimization was first explored successfully in the architecture of deep autoencoder on the \"raw\" spectrogram or linear filter-bank features in the late 1990s,[56] showing its superiority over the Mel-Cepstral features that contain stages of fixed transformation from spectrograms. The raw features of speech, waveforms, later produced excellent larger-scale results.[57]\\nMany aspects of speech recognition were taken over by a deep learning method called long short-term memory (LSTM), a recurrent neural network published by Hochreiter and Schmidhuber in 1997.[58] LSTM RNNs avoid the vanishing gradient problem and can learn \"Very Deep Learning\" tasks[2] that require memories of events that happened thousands of discrete time steps before, which is important for speech. In 2003, LSTM started to become competitive with traditional speech recognizers on certain tasks.[59] Later it was combined with connectionist temporal classification (CTC)[60] in stacks of LSTM RNNs.[61] In 2015, Google\\'s speech recognition reportedly experienced a dramatic performance jump of 49% through CTC-trained LSTM, which they made available through Google Voice Search.[62]\\nIn 2006, publications by Geoff Hinton, Ruslan Salakhutdinov, Osindero and Teh[63]\\n[64][65] showed how a many-layered feedforward neural network could be effectively pre-trained one layer at a time, treating each layer in turn as an unsupervised restricted Boltzmann machine, then fine-tuning it using supervised backpropagation.[66] The papers referred to learning for deep belief nets.\\nDeep learning is part of state-of-the-art systems in various disciplines, particularly computer vision and automatic speech recognition (ASR). Results on commonly used evaluation sets such as TIMIT (ASR) and MNIST (image classification), as well as a range of large-vocabulary speech recognition tasks have steadily improved.[67][68][69][70] Convolutional neural networks (CNNs) were superseded for ASR by CTC[60] for LSTM.[58][62][71][72][73][74][75] but are more successful in computer vision.\\nThe impact of deep learning in industry began in the early 2000s, when CNNs already processed an estimated 10% to 20% of all the checks written in the US, according to Yann LeCun.[76] Industrial applications of deep learning to large-scale speech recognition started around 2010.\\nThe 2009 NIPS Workshop on Deep Learning for Speech Recognition[77] was motivated by the limitations of deep generative models of speech, and the possibility that given more capable hardware and large-scale data sets that deep neural nets (DNN) might become practical. It was believed that pre-training DNNs using generative models of deep belief nets (DBN) would overcome the main difficulties of neural nets.[78] However, it was discovered that replacing pre-training with large amounts of training data for straightforward backpropagation when using DNNs with large, context-dependent output layers produced error rates dramatically lower than then-state-of-the-art Gaussian mixture model (GMM)/Hidden Markov Model (HMM) and also than more-advanced generative model-based systems.[67][79] The nature of the recognition errors produced by the two types of systems was characteristically different,[80][77] offering technical insights into how to integrate deep learning into the existing highly efficient, run-time speech decoding system deployed by all major speech recognition systems.[12][81][82] Analysis around 2009–2010, contrasting the GMM (and other generative speech models) vs. DNN models, stimulated early industrial investment in deep learning for speech recognition,[80][77] eventually leading to pervasive and dominant use in that industry. That analysis was done with comparable performance (less than 1.5% in error rate) between discriminative DNNs and generative models.[67][80][78][83]\\nIn 2010, researchers extended deep learning from TIMIT to large vocabulary speech recognition, by adopting large output layers of the DNN based on context-dependent HMM states constructed by decision trees.[84][85][86][81]\\nAdvances in hardware have driven renewed interest in deep learning. In 2009, Nvidia was involved in what was called the “big bang” of deep learning, “as deep-learning neural networks were trained with Nvidia graphics processing units (GPUs).”[87] That year, Andrew Ng determined that GPUs could increase the speed of deep-learning systems by about 100 times.[88] In particular, GPUs are well-suited for the matrix/vector computations involved in machine learning.[89][90][91] GPUs speed up training algorithms by orders of magnitude, reducing running times from weeks to days.[92][93] Further, specialized hardware and algorithm optimizations can be used for efficient processing of deep learning models.[94]\\nIn 2012, a team led by George E. Dahl won the \"Merck Molecular Activity Challenge\" using multi-task deep neural networks to predict the biomolecular target of one drug.[95][96] In 2014, Hochreiter\\'s group used deep learning to detect off-target and toxic effects of environmental chemicals in nutrients, household products and drugs and won the \"Tox21 Data Challenge\" of NIH, FDA and NCATS.[97][98][99]\\nSignificant additional impacts in image or object recognition were felt from 2011 to 2012. Although CNNs trained by backpropagation had been around for decades, and GPU implementations of NNs for years, including CNNs, fast implementations of CNNs on GPUs were needed to progress on computer vision.[89][91][43][100][2] In 2011, this approach achieved for the first time superhuman performance in a visual pattern recognition contest. Also in 2011, it won the ICDAR Chinese handwriting contest, and in May 2012, it won the ISBI image segmentation contest.[101] Until 2011, CNNs did not play a major role at computer vision conferences, but in June 2012, a paper by Ciresan et al. at the leading conference CVPR[5] showed how max-pooling CNNs on GPU can dramatically improve many vision benchmark records. In October 2012, a similar system by Krizhevsky et al.[6] won the large-scale ImageNet competition by a significant margin over shallow machine learning methods. In November 2012, Ciresan et al.\\'s system also won the ICPR contest on analysis of large medical images for cancer detection, and in the following year also the MICCAI Grand Challenge on the same topic.[102] In 2013 and 2014, the error rate on the ImageNet task using deep learning was further reduced, following a similar trend in large-scale speech recognition.\\nImage classification was then extended to the more challenging task of generating descriptions (captions) for images, often as a combination of CNNs and LSTMs.[103][104][105][106]\\nSome researchers state that the October 2012 ImageNet victory anchored the start of a \"deep learning revolution\" that has transformed the AI industry.[107]\\nIn March 2019, Yoshua Bengio, Geoffrey Hinton and Yann LeCun were awarded the Turing Award for conceptual and engineering breakthroughs that have made deep neural networks a critical component of computing.\\nArtificial neural networks (ANNs) or connectionist systems are computing systems inspired by the biological neural networks that constitute animal brains. Such systems learn (progressively improve their ability) to do tasks by considering examples, generally without task-specific programming. For example, in image recognition, they might learn to identify images that contain cats by analyzing example images that have been manually labeled as \"cat\" or \"no cat\" and using the analytic results to identify cats in other images. They have found most use in applications difficult to express with a traditional computer algorithm using rule-based programming.\\nAn ANN is based on a collection of connected units called artificial neurons, (analogous to biological neurons in a biological brain). Each connection (synapse) between neurons can transmit a signal to another neuron. The receiving (postsynaptic) neuron can process the signal(s) and then signal downstream neurons connected to it. Neurons may have state, generally represented by real numbers, typically between 0 and 1. Neurons and synapses may also have a weight that varies as learning proceeds, which can increase or decrease the strength of the signal that it sends downstream.\\nTypically, neurons are organized in layers. Different layers may perform different kinds of transformations on their inputs. Signals travel from the first (input), to the last (output) layer, possibly after traversing the layers multiple times.\\nThe original goal of the neural network approach was to solve problems in the same way that a human brain would. Over time, attention focused on matching specific mental abilities, leading to deviations from biology such as backpropagation, or passing information in the reverse direction and adjusting the network to reflect that information.\\nNeural networks have been used on a variety of tasks, including computer vision, speech recognition, machine translation, social network filtering, playing board and video games and medical diagnosis.\\nAs of 2017, neural networks typically have a few thousand to a few million units and millions of connections. Despite this number being several order of magnitude less than the number of neurons on a human brain, these networks can perform many tasks at a level beyond that of humans (e.g., recognizing faces, playing \"Go\"[108] ).\\nA deep neural network (DNN) is an artificial neural network (ANN) with multiple layers between the input and output layers.[13][2] There are different types of neural networks but they always consist of the same components: neurons, synapses, weights, biases, and functions.[109] These components functioning similar to the human brains and can be trained like any other ML algorithm.[citation needed]\\nFor example, a DNN that is trained to recognize dog breeds will go over the given image and calculate the probability that the dog in the image is a certain breed. The user can review the results and select which probabilities the network should display (above a certain threshold, etc.) and return the proposed label. Each mathematical manipulation as such is considered a layer, and complex DNN have many layers, hence the name \"deep\" networks.\\nDNNs can model complex non-linear relationships. DNN architectures generate compositional models where the object is expressed as a layered composition of primitives.[110] The extra layers enable composition of features from lower layers, potentially modeling complex data with fewer units than a similarly performing shallow network.[13] For instance, it was proved that sparse multivariate polynomials are exponentially easier to approximate with DNNs than with shallow networks.[111]\\nDeep architectures include many variants of a few basic approaches. Each architecture has found success in specific domains. It is not always possible to compare the performance of multiple architectures, unless they have been evaluated on the same data sets.\\nDNNs are typically feedforward networks in which data flows from the input layer to the output layer without looping back. At first, the DNN creates a map of virtual neurons and assigns random numerical values, or \"weights\", to connections between them. The weights and inputs are multiplied and return an output between 0 and 1. If the network did not accurately recognize a particular pattern, an algorithm would adjust the weights.[112] That way the algorithm can make certain parameters more influential, until it determines the correct mathematical manipulation to fully process the data.\\nRecurrent neural networks (RNNs), in which data can flow in any direction, are used for applications such as language modeling.[113][114][115][116][117] Long short-term memory is particularly effective for this use.[58][118]\\nConvolutional deep neural networks (CNNs) are used in computer vision.[119] CNNs also have been applied to acoustic modeling for automatic speech recognition (ASR).[75]\\nAs with ANNs, many issues can arise with naively trained DNNs. Two common issues are overfitting and computation time.\\nDNNs are prone to overfitting because of the added layers of abstraction, which allow them to model rare dependencies in the training data. Regularization methods such as Ivakhnenko\\'s unit pruning[34] or weight decay (\\n\\n\\n\\n\\nℓ\\n\\n2\\n\\n\\n\\n\\n{\\\\displaystyle \\\\ell _{2}}\\n\\n-regularization) or sparsity (\\n\\n\\n\\n\\nℓ\\n\\n1\\n\\n\\n\\n\\n{\\\\displaystyle \\\\ell _{1}}\\n\\n-regularization) can be applied during training to combat overfitting.[120] Alternatively dropout regularization randomly omits units from the hidden layers during training. This helps to exclude rare dependencies.[121] Finally, data can be augmented via methods such as cropping and rotating such that smaller training sets can be increased in size to reduce the chances of overfitting.[122]\\nDNNs must consider many training parameters, such as the size (number of layers and number of units per layer), the learning rate, and initial weights. Sweeping through the parameter space for optimal parameters may not be feasible due to the cost in time and computational resources. Various tricks, such as batching (computing the gradient on several training examples at once rather than individual examples)[123] speed up computation. Large processing capabilities of many-core architectures (such as GPUs or the Intel Xeon Phi) have produced significant speedups in training, because of the suitability of such processing architectures for the matrix and vector computations.[124][125]\\nAlternatively, engineers may look for other types of neural networks with more straightforward and convergent training algorithms. CMAC (cerebellar model articulation controller) is one such kind of neural network. It doesn\\'t require learning rates or randomized initial weights for CMAC. The training process can be guaranteed to converge in one step with a new batch of data, and the computational complexity of the training algorithm is linear with respect to the number of neurons involved.[126][127]\\nSince the 2010s, advances in both machine learning algorithms and computer hardware have led to more efficient methods for training deep neural networks that contain many layers of non-linear hidden units and a very large output layer.[128] By 2019, graphic processing units (GPUs), often with AI-specific enhancements, had displaced CPUs as the dominant method of training large-scale commercial cloud AI.[129] OpenAI estimated the hardware computation used in the largest deep learning projects from AlexNet (2012) to AlphaZero (2017), and found a 300,000-fold increase in the amount of computation required, with a doubling-time trendline of 3.4 months.[130][131]\\nLarge-scale automatic speech recognition is the first and most convincing successful case of deep learning. LSTM RNNs can learn \"Very Deep Learning\" tasks[2] that involve multi-second intervals containing speech events separated by thousands of discrete time steps, where one time step corresponds to about 10 ms. LSTM with forget gates[118] is competitive with traditional speech recognizers on certain tasks.[59]\\nThe initial success in speech recognition was based on small-scale recognition tasks based on TIMIT. The data set contains 630 speakers from eight major dialects of American English, where each speaker reads 10 sentences.[132] Its small size lets many configurations be tried. More importantly, the TIMIT task concerns phone-sequence recognition, which, unlike word-sequence recognition, allows weak phone bigram language models. This lets the strength of the acoustic modeling aspects of speech recognition be more easily analyzed. The error rates listed below, including these early results and measured as percent phone error rates (PER), have been summarized since 1991.\\nThe debut of DNNs for speaker recognition in the late 1990s and speech recognition around 2009-2011 and of LSTM around 2003–2007, accelerated progress in eight major areas:[12][83][81]\\nAll major commercial speech recognition systems (e.g., Microsoft Cortana, Xbox, Skype Translator, Amazon Alexa, Google Now, Apple Siri, Baidu and iFlyTek voice search, and a range of Nuance speech products, etc.) are based on deep learning.[12][137][138]\\nA common evaluation set for image classification is the MNIST database data set. MNIST is composed of handwritten digits and includes 60,000 training examples and 10,000 test examples. As with TIMIT, its small size lets users test multiple configurations. A comprehensive list of results on this set is available.[139]\\nDeep learning-based image recognition has become \"superhuman\", producing more accurate results than human contestants. This first occurred in 2011 in recognition of traffic signs, and in 2014, with recognition of human faces.[140]Surpassing Human Level Face Recognition \\nDeep learning-trained vehicles now interpret 360° camera views.[141] Another example is Facial Dysmorphology Novel Analysis (FDNA) used to analyze cases of human malformation connected to a large database of genetic syndromes.\\nClosely related to the progress that has been made in image recognition is the increasing application of deep learning techniques to various visual art tasks. DNNs have proven themselves capable, for example, of a) identifying the style period of a given painting, b) Neural Style Transfer\\xa0–  capturing the style of a given artwork and applying it in a visually pleasing manner to an arbitrary photograph or video, and c) generating striking imagery based on random visual input fields.[142][143]\\nNeural networks have been used for implementing language models since the early 2000s.[113] LSTM helped to improve machine translation and language modeling.[114][115][116]\\nOther key techniques in this field are negative sampling[144] and word embedding. Word embedding, such as word2vec, can be thought of as a representational layer in a deep learning architecture that transforms an atomic word into a positional representation of the word relative to other words in the dataset; the position is represented as a point in a vector space. Using word embedding as an RNN input layer allows the network to parse sentences and phrases using an effective compositional vector grammar. A compositional vector grammar can be thought of as probabilistic context free grammar (PCFG) implemented by an RNN.[145] Recursive auto-encoders built atop word embeddings can assess sentence similarity and detect paraphrasing.[145] Deep neural architectures provide the best results for constituency parsing,[146] sentiment analysis,[147] information retrieval,[148][149] spoken language understanding,[150] machine translation,[114][151] contextual entity linking,[151] writing style recognition,[152] Text classification and others.[153]\\nRecent developments generalize word embedding to sentence embedding.\\nGoogle Translate (GT) uses a large end-to-end long short-term memory (LSTM) network.[154][155][156][157][158][159] Google Neural Machine Translation (GNMT) uses an example-based machine translation method in which the system \"learns from millions of examples.\"[155] It translates \"whole sentences at a time, rather than pieces. Google Translate supports over one hundred languages.[155] The network encodes the \"semantics of the sentence rather than simply memorizing phrase-to-phrase translations\".[155][160] GT uses English as an intermediate between most language pairs.[160]\\nA large percentage of candidate drugs fail to win regulatory approval. These failures are caused by insufficient efficacy (on-target effect), undesired interactions (off-target effects), or unanticipated toxic effects.[161][162] Research has explored use of deep learning to predict the biomolecular targets,[95][96] off-targets, and toxic effects of environmental chemicals in nutrients, household products and drugs.[97][98][99]\\nAtomNet is a deep learning system for structure-based rational drug design.[163] AtomNet was used to predict novel candidate biomolecules for disease targets such as the Ebola virus[164] and multiple sclerosis.[165][166]\\nIn 2017 graph neural networks were used for the first time to predict various properties of molecules in a large toxicology data set.[167] In 2019, generative neural networks were used to produce molecules that were validated experimentally all the way into mice.[168][169]\\nDeep reinforcement learning has been used to approximate the value of possible direct marketing actions, defined in terms of RFM variables. The estimated value function was shown to have a natural interpretation as customer lifetime value.[170]\\nRecommendation systems have used deep learning to extract meaningful features for a latent factor model for content-based music and journal recommendations.[171][172] Multi-view deep learning has been applied for learning user preferences from multiple domains.[173] The model uses a hybrid collaborative and content-based approach and enhances recommendations in multiple tasks.\\nAn autoencoder ANN was used in bioinformatics, to predict gene ontology annotations and gene-function relationships.[174]\\nIn medical informatics, deep learning was used to predict sleep quality based on data from wearables[175] and predictions of health complications from electronic health record data.[176]\\nDeep learning has been shown to produce competitive results in medical application such as cancer cell classification, lesion detection, organ segmentation and image enhancement.[177][178]\\nFinding the appropriate mobile audience for mobile advertising is always challenging, since many data points must be considered and analyzed before a target segment can be created and used in ad serving by any ad server.[179] Deep learning has been used to interpret large, many-dimensioned advertising datasets. Many data points are collected during the request/serve/click internet advertising cycle. This information can form the basis of machine learning to improve ad selection.\\nDeep learning has been successfully applied to inverse problems such as denoising, super-resolution, inpainting, and film colorization.[180] These applications include learning methods such as \"Shrinkage Fields for Effective Image Restoration\"[181] which trains on an image dataset, and Deep Image Prior, which trains on the image that needs restoration.\\nDeep learning is being successfully applied to financial fraud detection, tax evasion detection,[182] and anti-money laundering.[183]\\nThe United States Department of Defense applied deep learning to train robots in new tasks through observation.[184]\\nDeep learning is closely related to a class of theories of brain development (specifically, neocortical development) proposed by cognitive neuroscientists in the early 1990s.[185][186][187][188] These developmental theories were instantiated in computational models, making them predecessors of deep learning systems. These developmental models share the property that various proposed learning dynamics in the brain (e.g., a wave of nerve growth factor) support the self-organization somewhat analogous to the neural networks utilized in deep learning models. Like the neocortex, neural networks employ a hierarchy of layered filters in which each layer considers information from a prior layer (or the operating environment), and then passes its output (and possibly the original input), to other layers. This process yields a self-organizing stack of transducers, well-tuned to their operating environment. A 1995 description stated, \"...the infant\\'s brain seems to organize itself under the influence of waves of so-called trophic-factors ... different regions of the brain become connected sequentially, with one layer of tissue maturing before another and so on until the whole brain is mature.\"[189]\\nA variety of approaches have been used to investigate the plausibility of deep learning models from a neurobiological perspective. On the one hand, several variants of the backpropagation algorithm have been proposed in order to increase its processing realism.[190][191] Other researchers have argued that unsupervised forms of deep learning, such as those based on hierarchical generative models and deep belief networks, may be closer to biological reality.[192][193] In this respect, generative neural network models have been related to neurobiological evidence about sampling-based processing in the cerebral cortex.[194]\\nAlthough a systematic comparison between the human brain organization and the neuronal encoding in deep networks has not yet been established, several analogies have been reported. For example, the computations performed by deep learning units could be similar to those of actual neurons[195][196] and neural populations.[197] Similarly, the representations developed by deep learning models are similar to those measured in the primate visual system[198] both at the single-unit[199] and at the population[200] levels.\\nFacebook\\'s AI lab performs tasks such as automatically tagging uploaded pictures with the names of the people in them.[201]\\nGoogle\\'s DeepMind Technologies developed a system capable of learning how to play Atari video games using only pixels as data input. In 2015 they demonstrated their AlphaGo system, which learned the game of Go well enough to beat a professional Go player.[202][203][204] Google Translate uses a neural network to translate between more than 100 languages.\\nIn 2015, Blippar demonstrated a mobile augmented reality application that uses deep learning to recognize objects in real time.[205]\\nIn 2017, Covariant.ai was launched, which focuses on integrating deep learning into factories.[206]\\nAs of 2008,[207] researchers at The University of Texas at Austin (UT) developed a machine learning framework called Training an Agent Manually via Evaluative Reinforcement, or TAMER, which proposed new methods for robots or computer programs to learn how to perform tasks by interacting with a human instructor.[184] First developed as TAMER, a new algorithm called Deep TAMER was later introduced in 2018 during a collaboration between U.S. Army Research Laboratory (ARL) and UT researchers. Deep TAMER used deep learning to provide a robot the ability to learn new tasks through observation.[184] Using Deep TAMER, a robot learned a task with a human trainer, watching video streams or observing a human perform a task in-person. The robot later practiced the task with the help of some coaching from the trainer, who provided feedback such as “good job” and “bad job.”[208]\\nDeep learning has attracted both criticism and comment, in some cases from outside the field of computer science.\\nA main criticism concerns the lack of theory surrounding some methods.[209] Learning in the most common deep architectures is implemented using well-understood gradient descent. However, the theory surrounding other algorithms, such as contrastive divergence is less clear.[citation needed] (e.g., Does it converge? If so, how fast? What is it approximating?) Deep learning methods are often looked at as a black box, with most confirmations done empirically, rather than theoretically.[210]\\n\\nOthers point out that deep learning should be looked at as a step towards realizing strong AI, not as an all-encompassing solution. Despite the power of deep learning methods, they still lack much of the functionality needed for realizing this goal entirely. Research psychologist Gary Marcus noted:\"Realistically, deep learning is only part of the larger challenge of building intelligent machines. Such techniques lack ways of representing causal relationships (...) have no obvious ways of performing logical inferences, and they are also still a long way from integrating abstract knowledge, such as information about what objects are, what they are for, and how they are typically used. The most powerful A.I. systems, like Watson (...) use techniques like deep learning as just one element in a very complicated ensemble of techniques, ranging from the statistical technique of Bayesian inference to deductive reasoning.\"[211]In further reference to the idea that artistic sensitivity might inhere within relatively low levels of the cognitive hierarchy, a published series of graphic representations of the internal states of deep (20-30 layers) neural networks attempting to discern within essentially random data the images on which they were trained[212] demonstrate a visual appeal: the original research notice received well over 1,000 comments, and was the subject of what was for a time the most frequently accessed article on The Guardian\\'s[213] website.\\nSome deep learning architectures display problematic behaviors,[214] such as confidently classifying unrecognizable images as belonging to a familiar category of ordinary images[215] and misclassifying minuscule perturbations of correctly classified images.[216] Goertzel hypothesized that these behaviors are due to limitations in their internal representations and that these limitations would inhibit integration into heterogeneous multi-component artificial general intelligence (AGI) architectures.[214] These issues may possibly be addressed by deep learning architectures that internally form states homologous to image-grammar[217] decompositions of observed entities and events.[214] Learning a grammar (visual or linguistic) from training data would be equivalent to restricting the system to commonsense reasoning that operates on concepts in terms of grammatical production rules and is a basic goal of both human language acquisition[218] and artificial intelligence (AI).[219]\\nAs deep learning moves from the lab into the world, research and experience show that artificial neural networks are vulnerable to hacks and deception.[220] By identifying patterns that these systems use to function, attackers can modify inputs to ANNs in such a way that the ANN finds a match that human observers would not recognize. For example, an attacker can make subtle changes to an image such that the ANN finds a match even though the image looks to a human nothing like the search target. Such manipulation is termed an “adversarial attack.”[221]\\nIn 2016 researchers used one ANN to doctor images in trial and error fashion, identify another\\'s focal points and thereby generate images that deceived it. The modified images looked no different to human eyes. Another group showed that printouts of doctored images then photographed successfully tricked an image classification system.[222] One defense is reverse image search, in which a possible fake image is submitted to a site such as TinEye that can then find other instances of it. A refinement is to search using only parts of the image, to identify images from which that piece may have been taken.[223]\\nAnother group showed that certain psychedelic spectacles could fool a facial recognition system into thinking ordinary people were celebrities, potentially allowing one person to impersonate another. In 2017 researchers added stickers to stop signs and caused an ANN to misclassify them.[222]\\nANNs can however be further trained to detect attempts at deception, potentially leading attackers and defenders into an arms race similar to the kind that already defines the malware defense industry. ANNs have been trained to defeat ANN-based anti-malware software by repeatedly attacking a defense with malware that was continually altered by a genetic algorithm until it tricked the anti-malware while retaining its ability to damage the target.[222]\\nAnother group demonstrated that certain sounds could make the Google Now voice command system open a particular web address that would download malware.[222]\\nIn “data poisoning,” false data is continually smuggled into a machine learning system\\'s training set to prevent it from achieving mastery.[222]\\nMost Deep Learning systems rely on training and verification data that is generated and/or annotated by humans. It has been argued in media philosophy that not only low-paid clickwork (e.g. on Amazon Mechanical Turk) is regularly deployed for this purpose, but also implicit forms of human microwork that are often not recognized as such.[224] The philosopher Rainer Mühlhoff distinguishes five types of \"machinic capture\" of human microwork to generate training data: (1) gamification (the embedding of annotation or computation tasks in the flow of a game), (2) \"trapping and tracking\" (e.g. CAPTCHAs for image recognition or click-tracking on Google search results pages), (3) exploitation of social motivations (e.g. tagging faces on Facebook to obtain labeled facial images), (4) information mining (e.g. by leveraging quantified-self devices such as activity trackers) and (5) clickwork.[224]\\nMühlhoff argues that in most commercial end-user applications of Deep Learning such as Facebook\\'s face recognition system, the need for training data does not stop once an ANN is trained. Rather, there is a continued demand for human-generated verification data\\xa0to constantly calibrate and update the ANN. For this purpose Facebook introduced the feature that once a user is automatically recognized in an image, they receive a notification. They can choose whether of not they like to be publicly labeled on the image, or tell Facebook that it is not them in the picture.[225] This user interface is a mechanism to generate \"a constant stream of\\xa0 verification data\"[224] to further train the network in real-time. As Mühlhoff argues, involvement of human users to generate training and verification data is so typical for most commercial end-user applications of Deep Learning that such systems may be referred to as \"human-aided artificial intelligence\".[224]\\n'"
      ]
     },
     "execution_count": 3,
     "metadata": {},
     "output_type": "execute_result"
    }
   ],
   "source": [
    "article_text"
   ]
  },
  {
   "cell_type": "code",
   "execution_count": 4,
   "metadata": {},
   "outputs": [],
   "source": [
    "article_text = re.sub(r'\\[[0-9]*\\]', ' ', article_text)\n",
    "article_text = re.sub(r'\\s+', ' ', article_text)"
   ]
  },
  {
   "cell_type": "code",
   "execution_count": 5,
   "metadata": {},
   "outputs": [],
   "source": [
    "formatted_article_text = re.sub('[^a-zA-Z]', ' ', article_text )\n",
    "formatted_article_text = re.sub(r'\\s+', ' ', formatted_article_text)"
   ]
  },
  {
   "cell_type": "code",
   "execution_count": 6,
   "metadata": {},
   "outputs": [],
   "source": [
    "sentence_list = nltk.sent_tokenize(article_text)"
   ]
  },
  {
   "cell_type": "code",
   "execution_count": 7,
   "metadata": {},
   "outputs": [],
   "source": [
    "stopwords = nltk.corpus.stopwords.words('english')\n",
    "word_frequencies = {}\n",
    "for word in nltk.word_tokenize(formatted_article_text):\n",
    "    if word not in stopwords:\n",
    "        if word not in word_frequencies.keys():\n",
    "            word_frequencies[word] = 1\n",
    "        else:\n",
    "            word_frequencies[word] += 1"
   ]
  },
  {
   "cell_type": "code",
   "execution_count": 8,
   "metadata": {},
   "outputs": [],
   "source": [
    "maximum_frequncy = max(word_frequencies.values())\n",
    "\n",
    "for word in word_frequencies.keys():\n",
    "    word_frequencies[word] = (word_frequencies[word]/maximum_frequncy)"
   ]
  },
  {
   "cell_type": "code",
   "execution_count": 9,
   "metadata": {},
   "outputs": [],
   "source": [
    "sentence_scores = {}\n",
    "for sent in sentence_list:\n",
    "    for word in nltk.word_tokenize(sent.lower()):\n",
    "        if word in word_frequencies.keys():\n",
    "            if len(sent.split(' ')) < 30:\n",
    "                if sent not in sentence_scores.keys():\n",
    "                    sentence_scores[sent] = word_frequencies[word]\n",
    "                else:\n",
    "                    sentence_scores[sent] += word_frequencies[word]"
   ]
  },
  {
   "cell_type": "code",
   "execution_count": 10,
   "metadata": {},
   "outputs": [
    {
     "data": {
      "text/plain": [
       "{'Deep learning (also known as deep structured learning) is part of a broader family of machine learning methods based on artificial neural networks with representation learning.': 7.75757575757576,\n",
       " 'Learning can be supervised, semi-supervised or unsupervised.': 1.1010101010101012,\n",
       " 'Artificial neural networks (ANNs) were inspired by information processing and distributed communication nodes in biological systems.': 1.686868686868687,\n",
       " 'ANNs have various differences from biological brains.': 0.17171717171717174,\n",
       " 'Specifically, neural networks tend to be static and symbolic, while the biological brain of most living organisms is dynamic (plastic) and analogue.': 1.3838383838383845,\n",
       " 'The adjective \"deep\" in deep learning refers to the use of multiple layers in the network.': 3.666666666666667,\n",
       " 'Early work showed that a linear perceptron cannot be a universal classifier, but that a network with a nonpolynomial activation function with one hidden layer of unbounded width can.': 1.3333333333333333,\n",
       " 'Deep learning is a class of machine learning algorithms that : 199–200 uses multiple layers to progressively extract higher-level features from the raw input.': 4.0,\n",
       " 'For example, in image processing, lower layers may identify edges, while higher layers may identify the concepts relevant to a human such as digits or letters or faces.': 1.9595959595959596,\n",
       " 'In deep learning, each level learns to transform its input data into a slightly more abstract and composite representation.': 2.565656565656565,\n",
       " 'Importantly, a deep learning process can learn which features to optimally place in which level on its own.': 2.2424242424242418,\n",
       " 'This does not completely eliminate the need for hand-tuning; for example, varying numbers of layers and layer sizes can provide different degrees of abstraction.': 0.9191919191919191,\n",
       " 'The word \"deep\" in \"deep learning\" refers to the number of layers through which the data is transformed.': 3.6868686868686873,\n",
       " 'More precisely, deep learning systems have a substantial credit assignment path (CAP) depth.': 2.212121212121211,\n",
       " 'The CAP is the chain of transformations from input to output.': 0.2828282828282828,\n",
       " 'CAPs describe potentially causal connections between input and output.': 0.37373737373737376,\n",
       " 'For recurrent neural networks, in which a signal may propagate through a layer more than once, the CAP depth is potentially unlimited.': 1.7777777777777781,\n",
       " 'No universally agreed-upon threshold of depth divides shallow learning from deep learning, but most researchers agree that deep learning involves CAP depth higher than 2.': 5.222222222222222,\n",
       " 'CAP of depth 2 has been shown to be a universal approximator in the sense that it can emulate any function.': 0.30303030303030304,\n",
       " 'Beyond that, more layers do not add to the function approximator ability of the network.': 0.8181818181818181,\n",
       " 'Deep models (CAP > 2) are able to extract better features than shallow models and hence, extra layers help in learning the features effectively.': 3.1717171717171717,\n",
       " 'Deep learning architectures can be constructed with a greedy layer-by-layer method.': 2.1313131313131315,\n",
       " 'Deep learning helps to disentangle these abstractions and pick out which features improve performance.': 2.2121212121212124,\n",
       " 'Deep learning algorithms can be applied to unsupervised learning tasks.': 3.292929292929293,\n",
       " 'This is an important benefit because unlabeled data are more abundant than the labeled data.': 0.797979797979798,\n",
       " 'Examples of deep structures that can be trained in an unsupervised manner are neural history compressors and deep belief networks.': 3.2828282828282833,\n",
       " 'Deep neural networks are generally interpreted in terms of the universal approximation theorem or probabilistic inference.': 2.282828282828282,\n",
       " 'The classic universal approximation theorem concerns the capacity of feedforward neural networks with a single hidden layer of finite size to approximate continuous functions.': 1.8787878787878787,\n",
       " 'In 1989, the first proof was published by George Cybenko for sigmoid activation functions and was generalised to feed-forward multi-layer architectures in 1991 by Kurt Hornik.': 0.43434343434343436,\n",
       " 'Recent work also showed that universal approximation also holds for non-bounded activation functions such as the rectified linear unit.': 0.6767676767676767,\n",
       " 'The universal approximation theorem for deep neural networks concerns the capacity of networks with bounded width but the depth is allowed to grow.': 2.8181818181818175,\n",
       " 'Lu et al.': 0.10101010101010101,\n",
       " 'The probabilistic interpretation derives from the field of machine learning.': 1.3131313131313131,\n",
       " 'It features inference, as well as the optimization concepts of training and testing, related to fitting and generalization, respectively.': 0.6363636363636362,\n",
       " 'More specifically, the probabilistic interpretation considers the activation nonlinearity as a cumulative distribution function.': 0.33333333333333337,\n",
       " 'The probabilistic interpretation led to the introduction of dropout as regularizer in neural networks.': 1.2626262626262625,\n",
       " 'The probabilistic interpretation was introduced by researchers including Hopfield, Widrow and Narendra and popularized in surveys such as the one by Bishop.': 0.4949494949494949,\n",
       " 'Some sources point out that Frank Rosenblatt developed and explored all of the basic ingredients of the deep learning systems of today.': 2.2828282828282824,\n",
       " 'He described it in his book \"Principles of Neurodynamics: Perceptrons and the Theory of Brain Mechanisms\", published by Cornell Aeronautical Laboratory, Inc., Cornell University in 1962.': 0.23232323232323232,\n",
       " 'The first general, working learning algorithm for supervised, deep, feedforward, multilayer perceptrons was published by Alexey Ivakhnenko and Lapa in 1967.': 2.3737373737373733,\n",
       " 'A 1971 paper described a deep network with eight layers trained by the group method of data handling.': 2.252525252525252,\n",
       " 'Other deep learning working architectures, specifically those built for computer vision, began with the Neocognitron introduced by Kunihiko Fukushima in 1980.': 2.414141414141414,\n",
       " 'In 1989, Yann LeCun et al.': 0.10101010101010101,\n",
       " 'While the algorithm worked, training required 3 days.': 0.4545454545454546,\n",
       " 'Each layer in the feature extraction module extracted features with growing complexity regarding the previous layer.': 0.8989898989898988,\n",
       " 'Many factors contribute to the slow speed, including the vanishing gradient problem analyzed in 1991 by Sepp Hochreiter.': 0.4141414141414142,\n",
       " 'Both shallow and deep learning (e.g., recurrent nets) of ANNs have been explored for many years.': 2.2626262626262625,\n",
       " 'These methods never outperformed non-uniform internal-handcrafting Gaussian mixture model/Hidden Markov model (GMM-HMM) technology based on generative models of speech trained discriminatively.': 1.2929292929292928,\n",
       " 'Key difficulties have been analyzed, including gradient diminishing and weak temporal correlation structure in neural predictive models.': 1.1313131313131313,\n",
       " 'Additional difficulties were the lack of training data and limited computing power.': 0.7777777777777779,\n",
       " 'Most speech recognition researchers moved away from neural nets to pursue generative modeling.': 1.6363636363636362,\n",
       " 'An exception was at SRI International in the late 1990s.': 0.04040404040404041,\n",
       " \"Funded by the US government's NSA and DARPA, SRI studied deep neural networks in speech and speaker recognition.\": 2.7171717171717167,\n",
       " 'The SRI deep neural network was then deployed in the Nuance Verifier, representing the first major industrial application of deep learning.': 4.0606060606060606,\n",
       " 'The raw features of speech, waveforms, later produced excellent larger-scale results.': 0.707070707070707,\n",
       " 'Many aspects of speech recognition were taken over by a deep learning method called long short-term memory (LSTM), a recurrent neural network published by Hochreiter and Schmidhuber in 1997.': 3.9696969696969697,\n",
       " 'In 2003, LSTM started to become competitive with traditional speech recognizers on certain tasks.': 0.696969696969697,\n",
       " 'Later it was combined with connectionist temporal classification (CTC) in stacks of LSTM RNNs.': 0.18181818181818185,\n",
       " \"In 2015, Google's speech recognition reportedly experienced a dramatic performance jump of 49% through CTC-trained LSTM, which they made available through Google Voice Search.\": 0.8989898989898988,\n",
       " 'The papers referred to learning for deep belief nets.': 2.0606060606060606,\n",
       " 'Deep learning is part of state-of-the-art systems in various disciplines, particularly computer vision and automatic speech recognition (ASR).': 3.1414141414141414,\n",
       " 'Results on commonly used evaluation sets such as TIMIT (ASR) and MNIST (image classification), as well as a range of large-vocabulary speech recognition tasks have steadily improved.': 1.7272727272727273,\n",
       " 'Convolutional neural networks (CNNs) were superseded for ASR by CTC for LSTM.': 1.1111111111111112,\n",
       " 'but are more successful in computer vision.': 0.23232323232323232,\n",
       " 'Industrial applications of deep learning to large-scale speech recognition started around 2010.': 2.7474747474747474,\n",
       " 'It was believed that pre-training DNNs using generative models of deep belief nets (DBN) would overcome the main difficulties of neural nets.': 2.3030303030303028,\n",
       " 'That analysis was done with comparable performance (less than 1.5% in error rate) between discriminative DNNs and generative models.': 0.6262626262626263,\n",
       " 'Advances in hardware have driven renewed interest in deep learning.': 2.0,\n",
       " 'In particular, GPUs are well-suited for the matrix/vector computations involved in machine learning.': 1.2525252525252526,\n",
       " 'GPUs speed up training algorithms by orders of magnitude, reducing running times from weeks to days.': 0.484848484848485,\n",
       " 'Further, specialized hardware and algorithm optimizations can be used for efficient processing of deep learning models.': 2.717171717171717,\n",
       " 'In 2012, a team led by George E. Dahl won the \"Merck Molecular Activity Challenge\" using multi-task deep neural networks to predict the biomolecular target of one drug.': 2.505050505050505,\n",
       " 'Significant additional impacts in image or object recognition were felt from 2011 to 2012.': 0.7171717171717172,\n",
       " 'In 2011, this approach achieved for the first time superhuman performance in a visual pattern recognition contest.': 0.8888888888888891,\n",
       " 'Also in 2011, it won the ICDAR Chinese handwriting contest, and in May 2012, it won the ISBI image segmentation contest.': 0.686868686868687,\n",
       " 'Until 2011, CNNs did not play a major role at computer vision conferences, but in June 2012, a paper by Ciresan et al.': 0.43434343434343436,\n",
       " 'at the leading conference CVPR showed how max-pooling CNNs on GPU can dramatically improve many vision benchmark records.': 0.4242424242424243,\n",
       " 'In October 2012, a similar system by Krizhevsky et al.': 0.30303030303030304,\n",
       " 'won the large-scale ImageNet competition by a significant margin over shallow machine learning methods.': 1.393939393939394,\n",
       " 'In November 2012, Ciresan et al.': 0.10101010101010101,\n",
       " 'In 2013 and 2014, the error rate on the ImageNet task using deep learning was further reduced, following a similar trend in large-scale speech recognition.': 2.9898989898989896,\n",
       " 'Image classification was then extended to the more challenging task of generating descriptions (captions) for images, often as a combination of CNNs and LSTMs.': 0.7272727272727273,\n",
       " 'Some researchers state that the October 2012 ImageNet victory anchored the start of a \"deep learning revolution\" that has transformed the AI industry.': 2.1616161616161613,\n",
       " 'Artificial neural networks (ANNs) or connectionist systems are computing systems inspired by the biological neural networks that constitute animal brains.': 2.8282828282828283,\n",
       " 'Such systems learn (progressively improve their ability) to do tasks by considering examples, generally without task-specific programming.': 0.6868686868686869,\n",
       " 'They have found most use in applications difficult to express with a traditional computer algorithm using rule-based programming.': 0.6161616161616162,\n",
       " 'An ANN is based on a collection of connected units called artificial neurons, (analogous to biological neurons in a biological brain).': 1.0404040404040404,\n",
       " 'Each connection (synapse) between neurons can transmit a signal to another neuron.': 0.25252525252525254,\n",
       " 'The receiving (postsynaptic) neuron can process the signal(s) and then signal downstream neurons connected to it.': 0.3737373737373737,\n",
       " 'Neurons may have state, generally represented by real numbers, typically between 0 and 1.': 0.4646464646464646,\n",
       " 'Neurons and synapses may also have a weight that varies as learning proceeds, which can increase or decrease the strength of the signal that it sends downstream.': 1.6363636363636365,\n",
       " 'Typically, neurons are organized in layers.': 0.47474747474747475,\n",
       " 'Different layers may perform different kinds of transformations on their inputs.': 0.696969696969697,\n",
       " 'Signals travel from the first (input), to the last (output) layer, possibly after traversing the layers multiple times.': 1.1515151515151514,\n",
       " 'The original goal of the neural network approach was to solve problems in the same way that a human brain would.': 1.5151515151515154,\n",
       " 'Neural networks have been used on a variety of tasks, including computer vision, speech recognition, machine translation, social network filtering, playing board and video games and medical diagnosis.': 3.2020202020202024,\n",
       " 'As of 2017, neural networks typically have a few thousand to a few million units and millions of connections.': 1.292929292929293,\n",
       " 'A deep neural network (DNN) is an artificial neural network (ANN) with multiple layers between the input and output layers.': 3.8383838383838387,\n",
       " 'There are different types of neural networks but they always consist of the same components: neurons, synapses, weights, biases, and functions.': 1.4848484848484849,\n",
       " 'These components functioning similar to the human brains and can be trained like any other ML algorithm.': 0.6868686868686869,\n",
       " 'The user can review the results and select which probabilities the network should display (above a certain threshold, etc.)': 0.6868686868686869,\n",
       " 'and return the proposed label.': 0.0808080808080808,\n",
       " 'Each mathematical manipulation as such is considered a layer, and complex DNN have many layers, hence the name \"deep\" networks.': 2.2525252525252526,\n",
       " 'DNNs can model complex non-linear relationships.': 0.15151515151515152,\n",
       " 'DNN architectures generate compositional models where the object is expressed as a layered composition of primitives.': 0.5656565656565656,\n",
       " 'The extra layers enable composition of features from lower layers, potentially modeling complex data with fewer units than a similarly performing shallow network.': 1.8686868686868687,\n",
       " 'For instance, it was proved that sparse multivariate polynomials are exponentially easier to approximate with DNNs than with shallow networks.': 0.6565656565656566,\n",
       " 'Deep architectures include many variants of a few basic approaches.': 1.2828282828282824,\n",
       " 'Each architecture has found success in specific domains.': 0.1616161616161616,\n",
       " 'It is not always possible to compare the performance of multiple architectures, unless they have been evaluated on the same data sets.': 0.787878787878788,\n",
       " 'DNNs are typically feedforward networks in which data flows from the input layer to the output layer without looping back.': 1.828282828282828,\n",
       " 'At first, the DNN creates a map of virtual neurons and assigns random numerical values, or \"weights\", to connections between them.': 0.41414141414141414,\n",
       " 'The weights and inputs are multiplied and return an output between 0 and 1.': 0.23232323232323232,\n",
       " 'If the network did not accurately recognize a particular pattern, an algorithm would adjust the weights.': 0.7272727272727273,\n",
       " 'That way the algorithm can make certain parameters more influential, until it determines the correct mathematical manipulation to fully process the data.': 0.8181818181818183,\n",
       " 'Recurrent neural networks (RNNs), in which data can flow in any direction, are used for applications such as language modeling.': 1.929292929292929,\n",
       " 'Long short-term memory is particularly effective for this use.': 0.18181818181818182,\n",
       " 'Convolutional deep neural networks (CNNs) are used in computer vision.': 2.444444444444444,\n",
       " 'CNNs also have been applied to acoustic modeling for automatic speech recognition (ASR).': 1.0303030303030303,\n",
       " 'As with ANNs, many issues can arise with naively trained DNNs.': 0.3434343434343435,\n",
       " 'Two common issues are overfitting and computation time.': 0.3232323232323232,\n",
       " 'DNNs are prone to overfitting because of the added layers of abstraction, which allow them to model rare dependencies in the training data.': 1.1515151515151516,\n",
       " 'Alternatively dropout regularization randomly omits units from the hidden layers during training.': 0.797979797979798,\n",
       " 'This helps to exclude rare dependencies.': 0.07070707070707072,\n",
       " 'Finally, data can be augmented via methods such as cropping and rotating such that smaller training sets can be increased in size to reduce the chances of overfitting.': 0.9898989898989898,\n",
       " 'DNNs must consider many training parameters, such as the size (number of layers and number of units per layer), the learning rate, and initial weights.': 2.515151515151515,\n",
       " 'Sweeping through the parameter space for optimal parameters may not be feasible due to the cost in time and computational resources.': 0.49494949494949503,\n",
       " 'Various tricks, such as batching (computing the gradient on several training examples at once rather than individual examples) speed up computation.': 0.7373737373737373,\n",
       " 'Alternatively, engineers may look for other types of neural networks with more straightforward and convergent training algorithms.': 1.6565656565656566,\n",
       " 'CMAC (cerebellar model articulation controller) is one such kind of neural network.': 1.222222222222222,\n",
       " \"It doesn't require learning rates or randomized initial weights for CMAC.\": 1.1616161616161615,\n",
       " 'By 2019, graphic processing units (GPUs), often with AI-specific enhancements, had displaced CPUs as the dominant method of training large-scale commercial cloud AI.': 0.6868686868686869,\n",
       " 'Large-scale automatic speech recognition is the first and most convincing successful case of deep learning.': 2.7777777777777777,\n",
       " 'The initial success in speech recognition was based on small-scale recognition tasks based on TIMIT.': 1.696969696969697,\n",
       " 'The data set contains 630 speakers from eight major dialects of American English, where each speaker reads 10 sentences.': 0.6262626262626263,\n",
       " 'Its small size lets many configurations be tried.': 0.2828282828282829,\n",
       " 'More importantly, the TIMIT task concerns phone-sequence recognition, which, unlike word-sequence recognition, allows weak phone bigram language models.': 1.303030303030303,\n",
       " 'This lets the strength of the acoustic modeling aspects of speech recognition be more easily analyzed.': 0.8787878787878788,\n",
       " 'The error rates listed below, including these early results and measured as percent phone error rates (PER), have been summarized since 1991.': 0.5656565656565656,\n",
       " 'are based on deep learning.': 2.111111111111111,\n",
       " 'A common evaluation set for image classification is the MNIST database data set.': 0.898989898989899,\n",
       " 'MNIST is composed of handwritten digits and includes 60,000 training examples and 10,000 test examples.': 0.4747474747474748,\n",
       " 'As with TIMIT, its small size lets users test multiple configurations.': 0.2727272727272727,\n",
       " 'A comprehensive list of results on this set is available.': 0.2121212121212121,\n",
       " 'Deep learning-based image recognition has become \"superhuman\", producing more accurate results than human contestants.': 1.9595959595959598,\n",
       " 'This first occurred in 2011 in recognition of traffic signs, and in 2014, with recognition of human faces.': 1.1515151515151516,\n",
       " 'Surpassing Human Level Face Recognition Deep learning-trained vehicles now interpret 360° camera views.': 1.6161616161616164,\n",
       " 'Another example is Facial Dysmorphology Novel Analysis (FDNA) used to analyze cases of human malformation connected to a large database of genetic syndromes.': 0.9696969696969697,\n",
       " 'Closely related to the progress that has been made in image recognition is the increasing application of deep learning techniques to various visual art tasks.': 3.1010101010101008,\n",
       " 'Neural networks have been used for implementing language models since the early 2000s.': 1.7171717171717173,\n",
       " 'LSTM helped to improve machine translation and language modeling.': 0.4141414141414142,\n",
       " 'Other key techniques in this field are negative sampling and word embedding.': 0.2727272727272727,\n",
       " 'Using word embedding as an RNN input layer allows the network to parse sentences and phrases using an effective compositional vector grammar.': 1.4141414141414141,\n",
       " 'A compositional vector grammar can be thought of as probabilistic context free grammar (PCFG) implemented by an RNN.': 0.35353535353535354,\n",
       " 'Recursive auto-encoders built atop word embeddings can assess sentence similarity and detect paraphrasing.': 0.22222222222222227,\n",
       " 'Deep neural architectures provide the best results for constituency parsing, sentiment analysis, information retrieval, spoken language understanding, machine translation, contextual entity linking, writing style recognition, Text classification and others.': 2.8181818181818183,\n",
       " 'Recent developments generalize word embedding to sentence embedding.': 0.26262626262626265,\n",
       " 'Google Translate (GT) uses a large end-to-end long short-term memory (LSTM) network.': 0.6565656565656565,\n",
       " 'Google Neural Machine Translation (GNMT) uses an example-based machine translation method in which the system \"learns from millions of examples.\"': 1.3838383838383839,\n",
       " 'It translates \"whole sentences at a time, rather than pieces.': 0.26262626262626265,\n",
       " 'Google Translate supports over one hundred languages.': 0.202020202020202,\n",
       " 'The network encodes the \"semantics of the sentence rather than simply memorizing phrase-to-phrase translations\".': 0.46464646464646464,\n",
       " 'GT uses English as an intermediate between most language pairs.': 0.18181818181818182,\n",
       " 'A large percentage of candidate drugs fail to win regulatory approval.': 0.27272727272727276,\n",
       " 'These failures are caused by insufficient efficacy (on-target effect), undesired interactions (off-target effects), or unanticipated toxic effects.': 0.20202020202020204,\n",
       " 'Research has explored use of deep learning to predict the biomolecular targets, off-targets, and toxic effects of environmental chemicals in nutrients, household products and drugs.': 2.373737373737374,\n",
       " 'AtomNet is a deep learning system for structure-based rational drug design.': 2.111111111111111,\n",
       " 'AtomNet was used to predict novel candidate biomolecules for disease targets such as the Ebola virus and multiple sclerosis.': 0.47474747474747475,\n",
       " 'In 2017 graph neural networks were used for the first time to predict various properties of molecules in a large toxicology data set.': 2.3030303030303028,\n",
       " 'In 2019, generative neural networks were used to produce molecules that were validated experimentally all the way into mice.': 1.5252525252525253,\n",
       " 'Deep reinforcement learning has been used to approximate the value of possible direct marketing actions, defined in terms of RFM variables.': 2.3535353535353525,\n",
       " 'The estimated value function was shown to have a natural interpretation as customer lifetime value.': 0.29292929292929293,\n",
       " 'Recommendation systems have used deep learning to extract meaningful features for a latent factor model for content-based music and journal recommendations.': 2.6666666666666665,\n",
       " 'Multi-view deep learning has been applied for learning user preferences from multiple domains.': 3.1818181818181817,\n",
       " 'The model uses a hybrid collaborative and content-based approach and enhances recommendations in multiple tasks.': 0.5252525252525253,\n",
       " 'An autoencoder ANN was used in bioinformatics, to predict gene ontology annotations and gene-function relationships.': 0.3939393939393939,\n",
       " 'In medical informatics, deep learning was used to predict sleep quality based on data from wearables and predictions of health complications from electronic health record data.': 3.282828282828282,\n",
       " 'Deep learning has been shown to produce competitive results in medical application such as cancer cell classification, lesion detection, organ segmentation and image enhancement.': 2.676767676767676,\n",
       " 'Deep learning has been used to interpret large, many-dimensioned advertising datasets.': 2.3636363636363638,\n",
       " 'Many data points are collected during the request/serve/click internet advertising cycle.': 0.5757575757575756,\n",
       " 'This information can form the basis of machine learning to improve ad selection.': 1.3636363636363638,\n",
       " 'Deep learning has been successfully applied to inverse problems such as denoising, super-resolution, inpainting, and film colorization.': 2.1111111111111107,\n",
       " 'Deep learning is being successfully applied to financial fraud detection, tax evasion detection, and anti-money laundering.': 2.171717171717171,\n",
       " 'The United States Department of Defense applied deep learning to train robots in new tasks through observation.': 2.3636363636363638,\n",
       " 'Deep learning is closely related to a class of theories of brain development (specifically, neocortical development) proposed by cognitive neuroscientists in the early 1990s.': 2.3333333333333335,\n",
       " 'These developmental theories were instantiated in computational models, making them predecessors of deep learning systems.': 2.444444444444444,\n",
       " 'This process yields a self-organizing stack of transducers, well-tuned to their operating environment.': 0.12121212121212122,\n",
       " 'A variety of approaches have been used to investigate the plausibility of deep learning models from a neurobiological perspective.': 2.4646464646464645,\n",
       " 'On the one hand, several variants of the backpropagation algorithm have been proposed in order to increase its processing realism.': 0.6767676767676768,\n",
       " 'Other researchers have argued that unsupervised forms of deep learning, such as those based on hierarchical generative models and deep belief networks, may be closer to biological reality.': 4.404040404040405,\n",
       " 'In this respect, generative neural network models have been related to neurobiological evidence about sampling-based processing in the cerebral cortex.': 1.5151515151515151,\n",
       " 'Although a systematic comparison between the human brain organization and the neuronal encoding in deep networks has not yet been established, several analogies have been reported.': 1.878787878787879,\n",
       " 'For example, the computations performed by deep learning units could be similar to those of actual neurons and neural populations.': 2.98989898989899,\n",
       " 'Similarly, the representations developed by deep learning models are similar to those measured in the primate visual system both at the single-unit and at the population levels.': 2.585858585858585,\n",
       " \"Facebook's AI lab performs tasks such as automatically tagging uploaded pictures with the names of the people in them.\": 0.3131313131313132,\n",
       " \"Google's DeepMind Technologies developed a system capable of learning how to play Atari video games using only pixels as data input.\": 1.9595959595959596,\n",
       " 'In 2015 they demonstrated their AlphaGo system, which learned the game of Go well enough to beat a professional Go player.': 0.3636363636363637,\n",
       " 'Google Translate uses a neural network to translate between more than 100 languages.': 1.0505050505050504,\n",
       " 'In 2015, Blippar demonstrated a mobile augmented reality application that uses deep learning to recognize objects in real time.': 2.404040404040404,\n",
       " 'In 2017, Covariant.ai was launched, which focuses on integrating deep learning into factories.': 1.9595959595959596,\n",
       " 'First developed as TAMER, a new algorithm called Deep TAMER was later introduced in 2018 during a collaboration between U.S. Army Research Laboratory (ARL) and UT researchers.': 1.5353535353535352,\n",
       " 'Deep TAMER used deep learning to provide a robot the ability to learn new tasks through observation.': 3.464646464646464,\n",
       " 'Using Deep TAMER, a robot learned a task with a human trainer, watching video streams or observing a human perform a task in-person.': 1.8181818181818181,\n",
       " 'A main criticism concerns the lack of theory surrounding some methods.': 0.29292929292929293,\n",
       " 'Learning in the most common deep architectures is implemented using well-understood gradient descent.': 2.282828282828283,\n",
       " 'However, the theory surrounding other algorithms, such as contrastive divergence is less clear.': 0.17171717171717174,\n",
       " '[citation needed] (e.g., Does it converge?': 0.08080808080808081,\n",
       " 'If so, how fast?': 0.020202020202020204,\n",
       " 'What is it approximating?)': 0.010101010101010102,\n",
       " 'Deep learning methods are often looked at as a black box, with most confirmations done empirically, rather than theoretically.': 2.212121212121211,\n",
       " 'Others point out that deep learning should be looked at as a step towards realizing strong AI, not as an all-encompassing solution.': 2.07070707070707,\n",
       " 'Despite the power of deep learning methods, they still lack much of the functionality needed for realizing this goal entirely.': 2.242424242424242,\n",
       " 'Research psychologist Gary Marcus noted:\"Realistically, deep learning is only part of the larger challenge of building intelligent machines.': 2.0808080808080804,\n",
       " 'The most powerful A.I.': 0.010101010101010102,\n",
       " 'Goertzel hypothesized that these behaviors are due to limitations in their internal representations and that these limitations would inhibit integration into heterogeneous multi-component artificial general intelligence (AGI) architectures.': 0.585858585858586,\n",
       " 'These issues may possibly be addressed by deep learning architectures that internally form states homologous to image-grammar decompositions of observed entities and events.': 2.4242424242424234,\n",
       " 'As deep learning moves from the lab into the world, research and experience show that artificial neural networks are vulnerable to hacks and deception.': 3.2020202020202024,\n",
       " 'The modified images looked no different to human eyes.': 0.48484848484848486,\n",
       " 'Another group showed that printouts of doctored images then photographed successfully tricked an image classification system.': 0.8787878787878788,\n",
       " 'One defense is reverse image search, in which a possible fake image is submitted to a site such as TinEye that can then find other instances of it.': 0.8686868686868685,\n",
       " 'A refinement is to search using only parts of the image, to identify images from which that piece may have been taken.': 0.8686868686868686,\n",
       " 'Another group showed that certain psychedelic spectacles could fool a facial recognition system into thinking ordinary people were celebrities, potentially allowing one person to impersonate another.': 1.1717171717171717,\n",
       " 'In 2017 researchers added stickers to stop signs and caused an ANN to misclassify them.': 0.20202020202020202,\n",
       " 'Another group demonstrated that certain sounds could make the Google Now voice command system open a particular web address that would download malware.': 0.6565656565656565,\n",
       " \"In “data poisoning,” false data is continually smuggled into a machine learning system's training set to prevent it from achieving mastery.\": 2.4141414141414135,\n",
       " 'Most Deep Learning systems rely on training and verification data that is generated and/or annotated by humans.': 2.8080808080808075,\n",
       " 'It has been argued in media philosophy that not only low-paid clickwork (e.g.': 0.06060606060606061,\n",
       " 'on Amazon Mechanical Turk) is regularly deployed for this purpose, but also implicit forms of human microwork that are often not recognized as such.': 0.5353535353535355,\n",
       " 'CAPTCHAs for image recognition or click-tracking on Google search results pages), (3) exploitation of social motivations (e.g.': 0.8484848484848484,\n",
       " 'tagging faces on Facebook to obtain labeled facial images), (4) information mining (e.g.': 0.37373737373737376,\n",
       " 'by leveraging quantified-self devices such as activity trackers) and (5) clickwork.': 0.06060606060606061,\n",
       " 'Rather, there is a continued demand for human-generated verification data to constantly calibrate and update the ANN.': 0.4848484848484849,\n",
       " 'For this purpose Facebook introduced the feature that once a user is automatically recognized in an image, they receive a notification.': 0.5050505050505051,\n",
       " 'They can choose whether of not they like to be publicly labeled on the image, or tell Facebook that it is not them in the picture.': 0.4040404040404041,\n",
       " 'This user interface is a mechanism to generate \"a constant stream of verification data\" to further train the network in real-time.': 0.9191919191919191}"
      ]
     },
     "execution_count": 10,
     "metadata": {},
     "output_type": "execute_result"
    }
   ],
   "source": [
    "sentence_scores"
   ]
  },
  {
   "cell_type": "code",
   "execution_count": 12,
   "metadata": {},
   "outputs": [
    {
     "name": "stdout",
     "output_type": "stream",
     "text": [
      "Deep learning (also known as deep structured learning) is part of a broader family of machine learning methods based on artificial neural networks with representation learning. No universally agreed-upon threshold of depth divides shallow learning from deep learning, but most researchers agree that deep learning involves CAP depth higher than 2. Other researchers have argued that unsupervised forms of deep learning, such as those based on hierarchical generative models and deep belief networks, may be closer to biological reality.\n"
     ]
    }
   ],
   "source": [
    "import heapq\n",
    "summary_sentences = heapq.nlargest(3, sentence_scores, key=sentence_scores.get)\n",
    "summary = ' '.join(summary_sentences)\n",
    "print(summary)"
   ]
  },
  {
   "cell_type": "code",
   "execution_count": null,
   "metadata": {},
   "outputs": [],
   "source": []
  }
 ],
 "metadata": {
  "kernelspec": {
   "display_name": "Python 3",
   "language": "python",
   "name": "python3"
  },
  "language_info": {
   "codemirror_mode": {
    "name": "ipython",
    "version": 3
   },
   "file_extension": ".py",
   "mimetype": "text/x-python",
   "name": "python",
   "nbconvert_exporter": "python",
   "pygments_lexer": "ipython3",
   "version": "3.8.5"
  }
 },
 "nbformat": 4,
 "nbformat_minor": 4
}
